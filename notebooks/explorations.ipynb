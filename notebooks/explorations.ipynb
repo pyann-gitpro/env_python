{
 "cells": [
  {
   "cell_type": "code",
   "execution_count": null,
   "metadata": {
    "vscode": {
     "languageId": "plaintext"
    }
   },
   "outputs": [],
   "source": [
    "# Import des bibliothèques\n",
    "import pandas as pd\n",
    "import numpy as np\n",
    "import seaborn as sns\n",
    "import matplotlib.pyplot as plt\n",
    "\n",
    "# Paramètres de style pour les graphiques\n",
    "sns.set(style=\"whitegrid\")\n",
    "\n",
    "# Exemple de lecture de données\n",
    "df = pd.read_csv(\"../data/raw/mon_fichier.csv\")\n",
    "\n",
    "# Aperçu des données\n",
    "df.head()\n",
    "\n",
    "# Visualisation exemple\n",
    "sns.histplot(df['colonne'], kde=True)\n",
    "plt.show()\n"
   ]
  }
 ],
 "metadata": {
  "language_info": {
   "name": "python"
  }
 },
 "nbformat": 4,
 "nbformat_minor": 2
}
